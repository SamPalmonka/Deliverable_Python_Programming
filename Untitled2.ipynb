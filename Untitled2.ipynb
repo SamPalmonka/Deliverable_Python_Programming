{
  "nbformat": 4,
  "nbformat_minor": 0,
  "metadata": {
    "colab": {
      "provenance": []
    },
    "kernelspec": {
      "name": "python3",
      "display_name": "Python 3"
    },
    "language_info": {
      "name": "python"
    }
  },
  "cells": [
    {
      "cell_type": "code",
      "execution_count": 11,
      "metadata": {
        "id": "1_3FNLP_Ar94"
      },
      "outputs": [],
      "source": [
        "import random"
      ]
    },
    {
      "cell_type": "code",
      "source": [
        "def random_list(array_len):\n",
        "  my_list = [random.randint(10,50) for _ in range(array_len)]\n",
        "  return my_list"
      ],
      "metadata": {
        "id": "bQ6RRE4bF6ZM"
      },
      "execution_count": 12,
      "outputs": []
    },
    {
      "cell_type": "code",
      "source": [
        "def list_sum(x):\n",
        "  return sum(x)"
      ],
      "metadata": {
        "id": "s_h8oRrJHh8N"
      },
      "execution_count": 13,
      "outputs": []
    },
    {
      "cell_type": "code",
      "source": [
        "def main():\n",
        "  print(\"please enter an integer between 5 and 15: \")\n",
        "  input_val = int(input())\n",
        "\n",
        "  if 5 <= input_val <= 15:\n",
        "    user_list = random_list(input_val)\n",
        "\n",
        "    print(\"the elements in the random list are: \")\n",
        "    print(*user_list)\n",
        "\n",
        "    print(\"The sum is: \", list_sum(user_list))\n",
        "\n",
        "  else:\n",
        "    print(\"please enter an integer between 5 and 15\")\n",
        "main()\n"
      ],
      "metadata": {
        "colab": {
          "base_uri": "https://localhost:8080/"
        },
        "id": "aZ_IvM5iITCM",
        "outputId": "71ae1ba4-6f6f-4a5b-e948-6f13cf64c728"
      },
      "execution_count": 19,
      "outputs": [
        {
          "output_type": "stream",
          "name": "stdout",
          "text": [
            "please enter an integer between 5 and 15: \n",
            "15\n",
            "the elements in the random list are: \n",
            "41 27 25 14 13 50 44 22 27 13 31 43 38 24 42\n",
            "The sum is:  454\n"
          ]
        }
      ]
    }
  ]
}